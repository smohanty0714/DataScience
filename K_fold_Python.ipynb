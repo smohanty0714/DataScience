{
  "nbformat": 4,
  "nbformat_minor": 0,
  "metadata": {
    "colab": {
      "name": "K-fold Python.ipynb",
      "provenance": [],
      "authorship_tag": "ABX9TyNzx7leGAgerHaryPWrzvX7",
      "include_colab_link": true
    },
    "kernelspec": {
      "name": "python3",
      "display_name": "Python 3"
    }
  },
  "cells": [
    {
      "cell_type": "markdown",
      "metadata": {
        "id": "view-in-github",
        "colab_type": "text"
      },
      "source": [
        "<a href=\"https://colab.research.google.com/github/smohanty0714/DataScience/blob/main/K_fold_Python.ipynb\" target=\"_parent\"><img src=\"https://colab.research.google.com/assets/colab-badge.svg\" alt=\"Open In Colab\"/></a>"
      ]
    },
    {
      "cell_type": "code",
      "metadata": {
        "id": "RV-QIZs4PwHe"
      },
      "source": [
        "import random"
      ],
      "execution_count": 3,
      "outputs": []
    },
    {
      "cell_type": "code",
      "metadata": {
        "id": "gPoArSESN_2l"
      },
      "source": [
        "def kfold(dataframe, folds):\n",
        "  result = []\n",
        "  dataframe_copy = dataframe.copy()\n",
        "  \n",
        "  for i in range(0,folds):\n",
        "    sublist = []\n",
        "    random.shuffle(dataframe_copy)\n",
        "    l = int(len(dataframe_copy)/2)\n",
        "    test = dataframe_copy[:l]\n",
        "    train = dataframe_copy[l:]\n",
        "    sublist.append(test)\n",
        "    sublist.append(train)\n",
        "    result.append(sublist)\n",
        "\n",
        "  return result\n",
        "    \n",
        "\n",
        "\n",
        "\n"
      ],
      "execution_count": 24,
      "outputs": []
    },
    {
      "cell_type": "code",
      "metadata": {
        "colab": {
          "base_uri": "https://localhost:8080/"
        },
        "id": "_r8BSiFpQ0wC",
        "outputId": "a67ef07b-9c45-42b9-b521-c09fcce143af"
      },
      "source": [
        "dataframe = [1,2,3]\n",
        "print(kfold(dataframe,2))"
      ],
      "execution_count": 25,
      "outputs": [
        {
          "output_type": "stream",
          "text": [
            "[[[3], [2, 1]], [[1], [3, 2]]]\n"
          ],
          "name": "stdout"
        }
      ]
    }
  ]
}